{
 "cells": [
  {
   "cell_type": "code",
   "execution_count": 1,
   "metadata": {},
   "outputs": [],
   "source": [
    "import pandas as pd                                 #import required libraries\n",
    "import numpy as np\n",
    "import matplotlib.pyplot as plt\n",
    "import seaborn as sns\n",
    "import warnings\n",
    "warnings.filterwarnings(\"ignore\")"
   ]
  },
  {
   "cell_type": "code",
   "execution_count": 2,
   "metadata": {},
   "outputs": [],
   "source": [
    "df1=pd.read_csv(\"olx\")\n",
    "df2=pd.read_csv(\"carsd\")"
   ]
  },
  {
   "cell_type": "code",
   "execution_count": 3,
   "metadata": {},
   "outputs": [
    {
     "data": {
      "text/html": [
       "<div>\n",
       "<style scoped>\n",
       "    .dataframe tbody tr th:only-of-type {\n",
       "        vertical-align: middle;\n",
       "    }\n",
       "\n",
       "    .dataframe tbody tr th {\n",
       "        vertical-align: top;\n",
       "    }\n",
       "\n",
       "    .dataframe thead th {\n",
       "        text-align: right;\n",
       "    }\n",
       "</style>\n",
       "<table border=\"1\" class=\"dataframe\">\n",
       "  <thead>\n",
       "    <tr style=\"text-align: right;\">\n",
       "      <th></th>\n",
       "      <th>Unnamed: 0</th>\n",
       "      <th>brand</th>\n",
       "      <th>nod</th>\n",
       "      <th>location</th>\n",
       "      <th>model</th>\n",
       "      <th>varient</th>\n",
       "      <th>fuel</th>\n",
       "      <th>year</th>\n",
       "      <th>transmission</th>\n",
       "      <th>km</th>\n",
       "      <th>price</th>\n",
       "    </tr>\n",
       "  </thead>\n",
       "  <tbody>\n",
       "    <tr>\n",
       "      <td>0</td>\n",
       "      <td>1</td>\n",
       "      <td>Maruti Suzuki</td>\n",
       "      <td>2nd</td>\n",
       "      <td>Kumpazha, Pathanamthitta, Kerala</td>\n",
       "      <td>Eeco</td>\n",
       "      <td>5 STR WITH A/C+HTR</td>\n",
       "      <td>Petrol</td>\n",
       "      <td>2011.0</td>\n",
       "      <td>Manual</td>\n",
       "      <td>55,000 km</td>\n",
       "      <td>₹ 2,30,000</td>\n",
       "    </tr>\n",
       "    <tr>\n",
       "      <td>1</td>\n",
       "      <td>2</td>\n",
       "      <td>Maruti Suzuki</td>\n",
       "      <td>1st</td>\n",
       "      <td>MG Road, Bengaluru, Karnataka</td>\n",
       "      <td>Swift</td>\n",
       "      <td>2011-2014 LXI</td>\n",
       "      <td>Petrol</td>\n",
       "      <td>2012.0</td>\n",
       "      <td>Manual</td>\n",
       "      <td>54,000 km</td>\n",
       "      <td>₹ 4,15,000</td>\n",
       "    </tr>\n",
       "    <tr>\n",
       "      <td>2</td>\n",
       "      <td>3</td>\n",
       "      <td>Hyundai</td>\n",
       "      <td>1st</td>\n",
       "      <td>RTC Colony, Hyderabad, Telangana</td>\n",
       "      <td>Verna</td>\n",
       "      <td>CRDi 1.6 SX</td>\n",
       "      <td>Diesel</td>\n",
       "      <td>2011.0</td>\n",
       "      <td>Manual</td>\n",
       "      <td>79,000 km</td>\n",
       "      <td>₹ 4,70,000</td>\n",
       "    </tr>\n",
       "    <tr>\n",
       "      <td>3</td>\n",
       "      <td>6</td>\n",
       "      <td>Tata</td>\n",
       "      <td>4th</td>\n",
       "      <td>Chinchole Nagar, Umarga, Maharashtra</td>\n",
       "      <td>Manza</td>\n",
       "      <td>Aura (ABS) Quadrajet</td>\n",
       "      <td>Diesel</td>\n",
       "      <td>2010.0</td>\n",
       "      <td>Automatic</td>\n",
       "      <td>999,999 km</td>\n",
       "      <td>₹ 1,80,000</td>\n",
       "    </tr>\n",
       "    <tr>\n",
       "      <td>4</td>\n",
       "      <td>7</td>\n",
       "      <td>Hyundai</td>\n",
       "      <td>1st</td>\n",
       "      <td>Ashok Nagar, Jalandhar, Punjab</td>\n",
       "      <td>i20</td>\n",
       "      <td>1.2 Spotz</td>\n",
       "      <td>Petrol</td>\n",
       "      <td>2013.0</td>\n",
       "      <td>Manual</td>\n",
       "      <td>65,000 km</td>\n",
       "      <td>₹ 3,99,000</td>\n",
       "    </tr>\n",
       "  </tbody>\n",
       "</table>\n",
       "</div>"
      ],
      "text/plain": [
       "   Unnamed: 0          brand  nod                              location  \\\n",
       "0           1  Maruti Suzuki  2nd      Kumpazha, Pathanamthitta, Kerala   \n",
       "1           2  Maruti Suzuki  1st         MG Road, Bengaluru, Karnataka   \n",
       "2           3        Hyundai  1st      RTC Colony, Hyderabad, Telangana   \n",
       "3           6           Tata  4th  Chinchole Nagar, Umarga, Maharashtra   \n",
       "4           7        Hyundai  1st        Ashok Nagar, Jalandhar, Punjab   \n",
       "\n",
       "   model               varient    fuel    year transmission          km  \\\n",
       "0   Eeco    5 STR WITH A/C+HTR  Petrol  2011.0       Manual   55,000 km   \n",
       "1  Swift         2011-2014 LXI  Petrol  2012.0       Manual   54,000 km   \n",
       "2  Verna           CRDi 1.6 SX  Diesel  2011.0       Manual   79,000 km   \n",
       "3  Manza  Aura (ABS) Quadrajet  Diesel  2010.0    Automatic  999,999 km   \n",
       "4    i20             1.2 Spotz  Petrol  2013.0       Manual   65,000 km   \n",
       "\n",
       "        price  \n",
       "0  ₹ 2,30,000  \n",
       "1  ₹ 4,15,000  \n",
       "2  ₹ 4,70,000  \n",
       "3  ₹ 1,80,000  \n",
       "4  ₹ 3,99,000  "
      ]
     },
     "execution_count": 3,
     "metadata": {},
     "output_type": "execute_result"
    }
   ],
   "source": [
    "df1.head()"
   ]
  },
  {
   "cell_type": "code",
   "execution_count": 4,
   "metadata": {},
   "outputs": [
    {
     "name": "stdout",
     "output_type": "stream",
     "text": [
      "<class 'pandas.core.frame.DataFrame'>\n",
      "RangeIndex: 792 entries, 0 to 791\n",
      "Data columns (total 11 columns):\n",
      "Unnamed: 0      792 non-null int64\n",
      "brand           792 non-null object\n",
      "nod             792 non-null object\n",
      "location        792 non-null object\n",
      "model           792 non-null object\n",
      "varient         792 non-null object\n",
      "fuel            792 non-null object\n",
      "year            792 non-null float64\n",
      "transmission    792 non-null object\n",
      "km              792 non-null object\n",
      "price           792 non-null object\n",
      "dtypes: float64(1), int64(1), object(9)\n",
      "memory usage: 68.2+ KB\n"
     ]
    }
   ],
   "source": [
    "df1.info()"
   ]
  },
  {
   "cell_type": "code",
   "execution_count": 5,
   "metadata": {},
   "outputs": [
    {
     "data": {
      "text/plain": [
       "(792, 11)"
      ]
     },
     "execution_count": 5,
     "metadata": {},
     "output_type": "execute_result"
    }
   ],
   "source": [
    "df1.shape"
   ]
  },
  {
   "cell_type": "code",
   "execution_count": 6,
   "metadata": {},
   "outputs": [
    {
     "data": {
      "text/plain": [
       "Unnamed: 0      0\n",
       "brand           0\n",
       "nod             0\n",
       "location        0\n",
       "model           0\n",
       "varient         0\n",
       "fuel            0\n",
       "year            0\n",
       "transmission    0\n",
       "km              0\n",
       "price           0\n",
       "dtype: int64"
      ]
     },
     "execution_count": 6,
     "metadata": {},
     "output_type": "execute_result"
    }
   ],
   "source": [
    "df1.isnull().sum()"
   ]
  },
  {
   "cell_type": "code",
   "execution_count": 7,
   "metadata": {},
   "outputs": [
    {
     "name": "stdout",
     "output_type": "stream",
     "text": [
      "999    1\n",
      "360    1\n",
      "358    1\n",
      "357    1\n",
      "355    1\n",
      "      ..\n",
      "667    1\n",
      "666    1\n",
      "665    1\n",
      "664    1\n",
      "1      1\n",
      "Name: Unnamed: 0, Length: 792, dtype: int64 --------\n",
      "Maruti Suzuki     265\n",
      "Hyundai           129\n",
      "Mahindra           63\n",
      "Toyota             55\n",
      "Tata               50\n",
      "Honda              44\n",
      "Ford               26\n",
      "Volkswagen         24\n",
      "Chevrolet          24\n",
      "Renault            17\n",
      "BMW                15\n",
      "Mercedes-Benz      15\n",
      "Audi               12\n",
      "Skoda              10\n",
      "Nissan              8\n",
      "Datsun              6\n",
      "Kia                 5\n",
      "Ashok Leyland       3\n",
      "Jaguar              3\n",
      "Fiat                3\n",
      "Mini                3\n",
      "Mitsubishi          3\n",
      "Bajaj               2\n",
      "Volvo               2\n",
      "Eicher Polaris      1\n",
      "Ambassador          1\n",
      "Jeep                1\n",
      "Porsche             1\n",
      "Other Brands        1\n",
      "Name: brand, dtype: int64 --------\n",
      "1st    479\n",
      "2nd    223\n",
      "3rd     60\n",
      "4th     23\n",
      "4+       7\n",
      "Name: nod, dtype: int64 --------\n",
      "Andheri West, Mumbai, Maharashtra                      16\n",
      "Ashok Vihar, Delhi, Delhi                              12\n",
      "Thane West, Thane, Maharashtra                          9\n",
      "Mulund West, Mumbai, Maharashtra                        8\n",
      "Rajouri Garden, Delhi, Delhi                            8\n",
      "                                                       ..\n",
      "Erumely, Kottayam, Kerala                               1\n",
      "Amarvila, Neyyattinkara, Kerala                         1\n",
      "Irong Chesaba, Thongkhong Laxmi Bazar, Manipur          1\n",
      "Bomikhal, Bhubaneshwar, Odisha                          1\n",
      "Picket Vijaya Nagar Colony, Secunderabad, Telangana     1\n",
      "Name: location, Length: 537, dtype: int64 --------\n",
      "Swift           61\n",
      "Swift Dzire     30\n",
      "Wagon R         23\n",
      "i20             22\n",
      "Others          22\n",
      "                ..\n",
      "RE60             1\n",
      "A Class          1\n",
      "Mobilio          1\n",
      "Micra Active     1\n",
      "Jetta            1\n",
      "Name: model, Length: 169, dtype: int64 --------\n",
      "Others                           56\n",
      "VXI                              30\n",
      "LXI                              19\n",
      "VDI                              18\n",
      "Magna                            10\n",
      "                                 ..\n",
      "AMT ZXI Plus                      1\n",
      "2014-2017 LXI                     1\n",
      "VXi                               1\n",
      "2002-2013 SLX 4WD                 1\n",
      "2013-2016 Anniversary Edition     1\n",
      "Name: varient, Length: 464, dtype: int64 --------\n",
      "Diesel           405\n",
      "Petrol           338\n",
      "CNG & Hybrids     37\n",
      "LPG               12\n",
      "Name: fuel, dtype: int64 --------\n",
      "2015.0    80\n",
      "2017.0    71\n",
      "2012.0    67\n",
      "2018.0    66\n",
      "2010.0    62\n",
      "2016.0    62\n",
      "2014.0    60\n",
      "2013.0    56\n",
      "2011.0    55\n",
      "2019.0    36\n",
      "2008.0    35\n",
      "2009.0    31\n",
      "2007.0    23\n",
      "2020.0    20\n",
      "2005.0    12\n",
      "2006.0    10\n",
      "2004.0     9\n",
      "2021.0     8\n",
      "2003.0     7\n",
      "2001.0     5\n",
      "2000.0     5\n",
      "1998.0     4\n",
      "2002.0     4\n",
      "1999.0     2\n",
      "1997.0     2\n",
      "Name: year, dtype: int64 --------\n",
      "Manual       624\n",
      "Automatic    168\n",
      "Name: transmission, dtype: int64 --------\n",
      "60,000 km     22\n",
      "65,000 km     19\n",
      "100,000 km    18\n",
      "80,000 km     17\n",
      "70,000 km     14\n",
      "              ..\n",
      "59,100 km      1\n",
      "15 km          1\n",
      "49,267 km      1\n",
      "71,073 km      1\n",
      "67,400 km      1\n",
      "Name: km, Length: 303, dtype: int64 --------\n",
      "₹ 2,50,000     16\n",
      "₹ 4,50,000     14\n",
      "₹ 5,50,000     12\n",
      "₹ 5,75,000     11\n",
      "₹ 3,00,000     10\n",
      "               ..\n",
      "₹ 9,25,000      1\n",
      "₹ 16,85,000     1\n",
      "₹ 66,00,000     1\n",
      "₹ 3,66,000      1\n",
      "₹ 85,00,000     1\n",
      "Name: price, Length: 296, dtype: int64 --------\n"
     ]
    }
   ],
   "source": [
    "for i in df1.columns:\n",
    "    print(df1[i].value_counts(),\"--------\")"
   ]
  },
  {
   "cell_type": "code",
   "execution_count": 8,
   "metadata": {},
   "outputs": [],
   "source": [
    "#treat "
   ]
  },
  {
   "cell_type": "code",
   "execution_count": 9,
   "metadata": {},
   "outputs": [],
   "source": [
    "df1[\"price\"]=df1[\"price\"].str.replace(\"₹ \",\"\").str.replace(\",\",\"\")\n",
    "df1[\"km\"]=df1[\"km\"].str.replace(\"km\",\"\").str.replace(\",\",\"\").str.replace(\" \",\"\").str.replace(\"Kms\",\"\")\n",
    "df1[\"location\"]=df1[\"location\"].str.split(\",\").str[1]\n",
    "df1[\"year\"]=df1[\"year\"].astype(int)"
   ]
  },
  {
   "cell_type": "code",
   "execution_count": 10,
   "metadata": {},
   "outputs": [
    {
     "data": {
      "text/html": [
       "<div>\n",
       "<style scoped>\n",
       "    .dataframe tbody tr th:only-of-type {\n",
       "        vertical-align: middle;\n",
       "    }\n",
       "\n",
       "    .dataframe tbody tr th {\n",
       "        vertical-align: top;\n",
       "    }\n",
       "\n",
       "    .dataframe thead th {\n",
       "        text-align: right;\n",
       "    }\n",
       "</style>\n",
       "<table border=\"1\" class=\"dataframe\">\n",
       "  <thead>\n",
       "    <tr style=\"text-align: right;\">\n",
       "      <th></th>\n",
       "      <th>Unnamed: 0</th>\n",
       "      <th>brand</th>\n",
       "      <th>nod</th>\n",
       "      <th>location</th>\n",
       "      <th>model</th>\n",
       "      <th>varient</th>\n",
       "      <th>fuel</th>\n",
       "      <th>year</th>\n",
       "      <th>transmission</th>\n",
       "      <th>km</th>\n",
       "      <th>price</th>\n",
       "    </tr>\n",
       "  </thead>\n",
       "  <tbody>\n",
       "    <tr>\n",
       "      <td>0</td>\n",
       "      <td>1</td>\n",
       "      <td>Maruti Suzuki</td>\n",
       "      <td>2nd</td>\n",
       "      <td>Pathanamthitta</td>\n",
       "      <td>Eeco</td>\n",
       "      <td>5 STR WITH A/C+HTR</td>\n",
       "      <td>Petrol</td>\n",
       "      <td>2011</td>\n",
       "      <td>Manual</td>\n",
       "      <td>55000</td>\n",
       "      <td>230000</td>\n",
       "    </tr>\n",
       "    <tr>\n",
       "      <td>1</td>\n",
       "      <td>2</td>\n",
       "      <td>Maruti Suzuki</td>\n",
       "      <td>1st</td>\n",
       "      <td>Bengaluru</td>\n",
       "      <td>Swift</td>\n",
       "      <td>2011-2014 LXI</td>\n",
       "      <td>Petrol</td>\n",
       "      <td>2012</td>\n",
       "      <td>Manual</td>\n",
       "      <td>54000</td>\n",
       "      <td>415000</td>\n",
       "    </tr>\n",
       "    <tr>\n",
       "      <td>2</td>\n",
       "      <td>3</td>\n",
       "      <td>Hyundai</td>\n",
       "      <td>1st</td>\n",
       "      <td>Hyderabad</td>\n",
       "      <td>Verna</td>\n",
       "      <td>CRDi 1.6 SX</td>\n",
       "      <td>Diesel</td>\n",
       "      <td>2011</td>\n",
       "      <td>Manual</td>\n",
       "      <td>79000</td>\n",
       "      <td>470000</td>\n",
       "    </tr>\n",
       "    <tr>\n",
       "      <td>3</td>\n",
       "      <td>6</td>\n",
       "      <td>Tata</td>\n",
       "      <td>4th</td>\n",
       "      <td>Umarga</td>\n",
       "      <td>Manza</td>\n",
       "      <td>Aura (ABS) Quadrajet</td>\n",
       "      <td>Diesel</td>\n",
       "      <td>2010</td>\n",
       "      <td>Automatic</td>\n",
       "      <td>999999</td>\n",
       "      <td>180000</td>\n",
       "    </tr>\n",
       "    <tr>\n",
       "      <td>4</td>\n",
       "      <td>7</td>\n",
       "      <td>Hyundai</td>\n",
       "      <td>1st</td>\n",
       "      <td>Jalandhar</td>\n",
       "      <td>i20</td>\n",
       "      <td>1.2 Spotz</td>\n",
       "      <td>Petrol</td>\n",
       "      <td>2013</td>\n",
       "      <td>Manual</td>\n",
       "      <td>65000</td>\n",
       "      <td>399000</td>\n",
       "    </tr>\n",
       "  </tbody>\n",
       "</table>\n",
       "</div>"
      ],
      "text/plain": [
       "   Unnamed: 0          brand  nod         location  model  \\\n",
       "0           1  Maruti Suzuki  2nd   Pathanamthitta   Eeco   \n",
       "1           2  Maruti Suzuki  1st        Bengaluru  Swift   \n",
       "2           3        Hyundai  1st        Hyderabad  Verna   \n",
       "3           6           Tata  4th           Umarga  Manza   \n",
       "4           7        Hyundai  1st        Jalandhar    i20   \n",
       "\n",
       "                varient    fuel  year transmission      km   price  \n",
       "0    5 STR WITH A/C+HTR  Petrol  2011       Manual   55000  230000  \n",
       "1         2011-2014 LXI  Petrol  2012       Manual   54000  415000  \n",
       "2           CRDi 1.6 SX  Diesel  2011       Manual   79000  470000  \n",
       "3  Aura (ABS) Quadrajet  Diesel  2010    Automatic  999999  180000  \n",
       "4             1.2 Spotz  Petrol  2013       Manual   65000  399000  "
      ]
     },
     "execution_count": 10,
     "metadata": {},
     "output_type": "execute_result"
    }
   ],
   "source": [
    "df1.head()"
   ]
  },
  {
   "cell_type": "code",
   "execution_count": 11,
   "metadata": {},
   "outputs": [],
   "source": [
    "df2[\"nod\"]=df2[\"nod\"].str.replace(\" Owner\",\"\")\n",
    "df2[\"price\"]=df2[\"price\"].str.replace(\",\",\"\")\n",
    "df2[\"km\"]=df2[\"km\"].str.replace(\",\",\"\").str.replace(\" \",\"\").str.replace(\"Kms\",\"\")"
   ]
  },
  {
   "cell_type": "code",
   "execution_count": 12,
   "metadata": {},
   "outputs": [
    {
     "data": {
      "text/html": [
       "<div>\n",
       "<style scoped>\n",
       "    .dataframe tbody tr th:only-of-type {\n",
       "        vertical-align: middle;\n",
       "    }\n",
       "\n",
       "    .dataframe tbody tr th {\n",
       "        vertical-align: top;\n",
       "    }\n",
       "\n",
       "    .dataframe thead th {\n",
       "        text-align: right;\n",
       "    }\n",
       "</style>\n",
       "<table border=\"1\" class=\"dataframe\">\n",
       "  <thead>\n",
       "    <tr style=\"text-align: right;\">\n",
       "      <th></th>\n",
       "      <th>Unnamed: 0</th>\n",
       "      <th>brand</th>\n",
       "      <th>nod</th>\n",
       "      <th>location</th>\n",
       "      <th>model</th>\n",
       "      <th>varient</th>\n",
       "      <th>fuel</th>\n",
       "      <th>year</th>\n",
       "      <th>transmission</th>\n",
       "      <th>km</th>\n",
       "      <th>price</th>\n",
       "    </tr>\n",
       "  </thead>\n",
       "  <tbody>\n",
       "    <tr>\n",
       "      <td>0</td>\n",
       "      <td>0</td>\n",
       "      <td>Maruti</td>\n",
       "      <td>1st</td>\n",
       "      <td>Ahmedabad</td>\n",
       "      <td>Swift Dzire</td>\n",
       "      <td>VXI 1.2</td>\n",
       "      <td>Petrol</td>\n",
       "      <td>2019</td>\n",
       "      <td>Manual</td>\n",
       "      <td>9718</td>\n",
       "      <td>665000</td>\n",
       "    </tr>\n",
       "    <tr>\n",
       "      <td>1</td>\n",
       "      <td>1</td>\n",
       "      <td>Maruti</td>\n",
       "      <td>1st</td>\n",
       "      <td>Ahmedabad</td>\n",
       "      <td>Wagon R</td>\n",
       "      <td>VXI</td>\n",
       "      <td>Petrol</td>\n",
       "      <td>2016</td>\n",
       "      <td>Manual</td>\n",
       "      <td>81674</td>\n",
       "      <td>360000</td>\n",
       "    </tr>\n",
       "    <tr>\n",
       "      <td>2</td>\n",
       "      <td>2</td>\n",
       "      <td>Honda</td>\n",
       "      <td>1st</td>\n",
       "      <td>Ahmedabad</td>\n",
       "      <td>City</td>\n",
       "      <td>1.5 V MT</td>\n",
       "      <td>Petrol</td>\n",
       "      <td>2011</td>\n",
       "      <td>Manual</td>\n",
       "      <td>38647</td>\n",
       "      <td>399500</td>\n",
       "    </tr>\n",
       "    <tr>\n",
       "      <td>3</td>\n",
       "      <td>3</td>\n",
       "      <td>Maruti</td>\n",
       "      <td>1st</td>\n",
       "      <td>Ahmedabad</td>\n",
       "      <td>Alto K10</td>\n",
       "      <td>LXI</td>\n",
       "      <td>Petrol</td>\n",
       "      <td>2012</td>\n",
       "      <td>Manual</td>\n",
       "      <td>89579</td>\n",
       "      <td>177500</td>\n",
       "    </tr>\n",
       "    <tr>\n",
       "      <td>4</td>\n",
       "      <td>4</td>\n",
       "      <td>Maruti</td>\n",
       "      <td>1st</td>\n",
       "      <td>Ahmedabad</td>\n",
       "      <td>S-Presso</td>\n",
       "      <td>VXI</td>\n",
       "      <td>Petrol</td>\n",
       "      <td>2019</td>\n",
       "      <td>Manual</td>\n",
       "      <td>24230</td>\n",
       "      <td>422000</td>\n",
       "    </tr>\n",
       "  </tbody>\n",
       "</table>\n",
       "</div>"
      ],
      "text/plain": [
       "   Unnamed: 0   brand  nod   location        model   varient    fuel  year  \\\n",
       "0           0  Maruti  1st  Ahmedabad  Swift Dzire   VXI 1.2  Petrol  2019   \n",
       "1           1  Maruti  1st  Ahmedabad      Wagon R       VXI  Petrol  2016   \n",
       "2           2   Honda  1st  Ahmedabad         City  1.5 V MT  Petrol  2011   \n",
       "3           3  Maruti  1st  Ahmedabad     Alto K10       LXI  Petrol  2012   \n",
       "4           4  Maruti  1st  Ahmedabad     S-Presso       VXI  Petrol  2019   \n",
       "\n",
       "  transmission     km   price  \n",
       "0       Manual   9718  665000  \n",
       "1       Manual  81674  360000  \n",
       "2       Manual  38647  399500  \n",
       "3       Manual  89579  177500  \n",
       "4       Manual  24230  422000  "
      ]
     },
     "execution_count": 12,
     "metadata": {},
     "output_type": "execute_result"
    }
   ],
   "source": [
    "df2.head()"
   ]
  },
  {
   "cell_type": "code",
   "execution_count": 13,
   "metadata": {},
   "outputs": [],
   "source": [
    "df=pd.concat([df1,df2],axis=0,ignore_index=True)"
   ]
  },
  {
   "cell_type": "code",
   "execution_count": 14,
   "metadata": {},
   "outputs": [
    {
     "data": {
      "text/html": [
       "<div>\n",
       "<style scoped>\n",
       "    .dataframe tbody tr th:only-of-type {\n",
       "        vertical-align: middle;\n",
       "    }\n",
       "\n",
       "    .dataframe tbody tr th {\n",
       "        vertical-align: top;\n",
       "    }\n",
       "\n",
       "    .dataframe thead th {\n",
       "        text-align: right;\n",
       "    }\n",
       "</style>\n",
       "<table border=\"1\" class=\"dataframe\">\n",
       "  <thead>\n",
       "    <tr style=\"text-align: right;\">\n",
       "      <th></th>\n",
       "      <th>Unnamed: 0</th>\n",
       "      <th>brand</th>\n",
       "      <th>nod</th>\n",
       "      <th>location</th>\n",
       "      <th>model</th>\n",
       "      <th>varient</th>\n",
       "      <th>fuel</th>\n",
       "      <th>year</th>\n",
       "      <th>transmission</th>\n",
       "      <th>km</th>\n",
       "      <th>price</th>\n",
       "    </tr>\n",
       "  </thead>\n",
       "  <tbody>\n",
       "    <tr>\n",
       "      <td>0</td>\n",
       "      <td>1</td>\n",
       "      <td>Maruti Suzuki</td>\n",
       "      <td>2nd</td>\n",
       "      <td>Pathanamthitta</td>\n",
       "      <td>Eeco</td>\n",
       "      <td>5 STR WITH A/C+HTR</td>\n",
       "      <td>Petrol</td>\n",
       "      <td>2011</td>\n",
       "      <td>Manual</td>\n",
       "      <td>55000</td>\n",
       "      <td>230000</td>\n",
       "    </tr>\n",
       "    <tr>\n",
       "      <td>1</td>\n",
       "      <td>2</td>\n",
       "      <td>Maruti Suzuki</td>\n",
       "      <td>1st</td>\n",
       "      <td>Bengaluru</td>\n",
       "      <td>Swift</td>\n",
       "      <td>2011-2014 LXI</td>\n",
       "      <td>Petrol</td>\n",
       "      <td>2012</td>\n",
       "      <td>Manual</td>\n",
       "      <td>54000</td>\n",
       "      <td>415000</td>\n",
       "    </tr>\n",
       "    <tr>\n",
       "      <td>2</td>\n",
       "      <td>3</td>\n",
       "      <td>Hyundai</td>\n",
       "      <td>1st</td>\n",
       "      <td>Hyderabad</td>\n",
       "      <td>Verna</td>\n",
       "      <td>CRDi 1.6 SX</td>\n",
       "      <td>Diesel</td>\n",
       "      <td>2011</td>\n",
       "      <td>Manual</td>\n",
       "      <td>79000</td>\n",
       "      <td>470000</td>\n",
       "    </tr>\n",
       "    <tr>\n",
       "      <td>3</td>\n",
       "      <td>6</td>\n",
       "      <td>Tata</td>\n",
       "      <td>4th</td>\n",
       "      <td>Umarga</td>\n",
       "      <td>Manza</td>\n",
       "      <td>Aura (ABS) Quadrajet</td>\n",
       "      <td>Diesel</td>\n",
       "      <td>2010</td>\n",
       "      <td>Automatic</td>\n",
       "      <td>999999</td>\n",
       "      <td>180000</td>\n",
       "    </tr>\n",
       "    <tr>\n",
       "      <td>4</td>\n",
       "      <td>7</td>\n",
       "      <td>Hyundai</td>\n",
       "      <td>1st</td>\n",
       "      <td>Jalandhar</td>\n",
       "      <td>i20</td>\n",
       "      <td>1.2 Spotz</td>\n",
       "      <td>Petrol</td>\n",
       "      <td>2013</td>\n",
       "      <td>Manual</td>\n",
       "      <td>65000</td>\n",
       "      <td>399000</td>\n",
       "    </tr>\n",
       "  </tbody>\n",
       "</table>\n",
       "</div>"
      ],
      "text/plain": [
       "   Unnamed: 0          brand  nod         location  model  \\\n",
       "0           1  Maruti Suzuki  2nd   Pathanamthitta   Eeco   \n",
       "1           2  Maruti Suzuki  1st        Bengaluru  Swift   \n",
       "2           3        Hyundai  1st        Hyderabad  Verna   \n",
       "3           6           Tata  4th           Umarga  Manza   \n",
       "4           7        Hyundai  1st        Jalandhar    i20   \n",
       "\n",
       "                varient    fuel  year transmission      km   price  \n",
       "0    5 STR WITH A/C+HTR  Petrol  2011       Manual   55000  230000  \n",
       "1         2011-2014 LXI  Petrol  2012       Manual   54000  415000  \n",
       "2           CRDi 1.6 SX  Diesel  2011       Manual   79000  470000  \n",
       "3  Aura (ABS) Quadrajet  Diesel  2010    Automatic  999999  180000  \n",
       "4             1.2 Spotz  Petrol  2013       Manual   65000  399000  "
      ]
     },
     "execution_count": 14,
     "metadata": {},
     "output_type": "execute_result"
    }
   ],
   "source": [
    "df.head()"
   ]
  },
  {
   "cell_type": "code",
   "execution_count": 15,
   "metadata": {},
   "outputs": [
    {
     "data": {
      "text/plain": [
       "Unnamed: 0       int64\n",
       "brand           object\n",
       "nod             object\n",
       "location        object\n",
       "model           object\n",
       "varient         object\n",
       "fuel            object\n",
       "year             int64\n",
       "transmission    object\n",
       "km              object\n",
       "price           object\n",
       "dtype: object"
      ]
     },
     "execution_count": 15,
     "metadata": {},
     "output_type": "execute_result"
    }
   ],
   "source": [
    "df.dtypes"
   ]
  },
  {
   "cell_type": "code",
   "execution_count": 16,
   "metadata": {},
   "outputs": [],
   "source": [
    "df[\"price\"]=df[\"price\"].astype(int)"
   ]
  },
  {
   "cell_type": "code",
   "execution_count": 17,
   "metadata": {},
   "outputs": [],
   "source": [
    "df[\"km\"]=df[\"km\"].astype(int)"
   ]
  },
  {
   "cell_type": "code",
   "execution_count": 18,
   "metadata": {},
   "outputs": [
    {
     "data": {
      "text/plain": [
       "Unnamed: 0       int64\n",
       "brand           object\n",
       "nod             object\n",
       "location        object\n",
       "model           object\n",
       "varient         object\n",
       "fuel            object\n",
       "year             int64\n",
       "transmission    object\n",
       "km               int32\n",
       "price            int32\n",
       "dtype: object"
      ]
     },
     "execution_count": 18,
     "metadata": {},
     "output_type": "execute_result"
    }
   ],
   "source": [
    "df.dtypes"
   ]
  },
  {
   "cell_type": "code",
   "execution_count": 19,
   "metadata": {},
   "outputs": [
    {
     "data": {
      "text/html": [
       "<div>\n",
       "<style scoped>\n",
       "    .dataframe tbody tr th:only-of-type {\n",
       "        vertical-align: middle;\n",
       "    }\n",
       "\n",
       "    .dataframe tbody tr th {\n",
       "        vertical-align: top;\n",
       "    }\n",
       "\n",
       "    .dataframe thead th {\n",
       "        text-align: right;\n",
       "    }\n",
       "</style>\n",
       "<table border=\"1\" class=\"dataframe\">\n",
       "  <thead>\n",
       "    <tr style=\"text-align: right;\">\n",
       "      <th></th>\n",
       "      <th>Unnamed: 0</th>\n",
       "      <th>brand</th>\n",
       "      <th>nod</th>\n",
       "      <th>location</th>\n",
       "      <th>model</th>\n",
       "      <th>varient</th>\n",
       "      <th>fuel</th>\n",
       "      <th>year</th>\n",
       "      <th>transmission</th>\n",
       "      <th>km</th>\n",
       "      <th>price</th>\n",
       "    </tr>\n",
       "  </thead>\n",
       "  <tbody>\n",
       "    <tr>\n",
       "      <td>0</td>\n",
       "      <td>1</td>\n",
       "      <td>Maruti Suzuki</td>\n",
       "      <td>2nd</td>\n",
       "      <td>Pathanamthitta</td>\n",
       "      <td>Eeco</td>\n",
       "      <td>5 STR WITH A/C+HTR</td>\n",
       "      <td>Petrol</td>\n",
       "      <td>2011</td>\n",
       "      <td>Manual</td>\n",
       "      <td>55000</td>\n",
       "      <td>230000</td>\n",
       "    </tr>\n",
       "    <tr>\n",
       "      <td>1</td>\n",
       "      <td>2</td>\n",
       "      <td>Maruti Suzuki</td>\n",
       "      <td>1st</td>\n",
       "      <td>Bengaluru</td>\n",
       "      <td>Swift</td>\n",
       "      <td>2011-2014 LXI</td>\n",
       "      <td>Petrol</td>\n",
       "      <td>2012</td>\n",
       "      <td>Manual</td>\n",
       "      <td>54000</td>\n",
       "      <td>415000</td>\n",
       "    </tr>\n",
       "    <tr>\n",
       "      <td>2</td>\n",
       "      <td>3</td>\n",
       "      <td>Hyundai</td>\n",
       "      <td>1st</td>\n",
       "      <td>Hyderabad</td>\n",
       "      <td>Verna</td>\n",
       "      <td>CRDi 1.6 SX</td>\n",
       "      <td>Diesel</td>\n",
       "      <td>2011</td>\n",
       "      <td>Manual</td>\n",
       "      <td>79000</td>\n",
       "      <td>470000</td>\n",
       "    </tr>\n",
       "    <tr>\n",
       "      <td>3</td>\n",
       "      <td>6</td>\n",
       "      <td>Tata</td>\n",
       "      <td>4th</td>\n",
       "      <td>Umarga</td>\n",
       "      <td>Manza</td>\n",
       "      <td>Aura (ABS) Quadrajet</td>\n",
       "      <td>Diesel</td>\n",
       "      <td>2010</td>\n",
       "      <td>Automatic</td>\n",
       "      <td>999999</td>\n",
       "      <td>180000</td>\n",
       "    </tr>\n",
       "    <tr>\n",
       "      <td>4</td>\n",
       "      <td>7</td>\n",
       "      <td>Hyundai</td>\n",
       "      <td>1st</td>\n",
       "      <td>Jalandhar</td>\n",
       "      <td>i20</td>\n",
       "      <td>1.2 Spotz</td>\n",
       "      <td>Petrol</td>\n",
       "      <td>2013</td>\n",
       "      <td>Manual</td>\n",
       "      <td>65000</td>\n",
       "      <td>399000</td>\n",
       "    </tr>\n",
       "  </tbody>\n",
       "</table>\n",
       "</div>"
      ],
      "text/plain": [
       "   Unnamed: 0          brand  nod         location  model  \\\n",
       "0           1  Maruti Suzuki  2nd   Pathanamthitta   Eeco   \n",
       "1           2  Maruti Suzuki  1st        Bengaluru  Swift   \n",
       "2           3        Hyundai  1st        Hyderabad  Verna   \n",
       "3           6           Tata  4th           Umarga  Manza   \n",
       "4           7        Hyundai  1st        Jalandhar    i20   \n",
       "\n",
       "                varient    fuel  year transmission      km   price  \n",
       "0    5 STR WITH A/C+HTR  Petrol  2011       Manual   55000  230000  \n",
       "1         2011-2014 LXI  Petrol  2012       Manual   54000  415000  \n",
       "2           CRDi 1.6 SX  Diesel  2011       Manual   79000  470000  \n",
       "3  Aura (ABS) Quadrajet  Diesel  2010    Automatic  999999  180000  \n",
       "4             1.2 Spotz  Petrol  2013       Manual   65000  399000  "
      ]
     },
     "execution_count": 19,
     "metadata": {},
     "output_type": "execute_result"
    }
   ],
   "source": [
    "df.head()"
   ]
  },
  {
   "cell_type": "code",
   "execution_count": 20,
   "metadata": {},
   "outputs": [],
   "source": [
    "df.drop(columns=\"Unnamed: 0\",inplace=True,axis=1)"
   ]
  },
  {
   "cell_type": "code",
   "execution_count": 21,
   "metadata": {},
   "outputs": [
    {
     "data": {
      "text/html": [
       "<div>\n",
       "<style scoped>\n",
       "    .dataframe tbody tr th:only-of-type {\n",
       "        vertical-align: middle;\n",
       "    }\n",
       "\n",
       "    .dataframe tbody tr th {\n",
       "        vertical-align: top;\n",
       "    }\n",
       "\n",
       "    .dataframe thead th {\n",
       "        text-align: right;\n",
       "    }\n",
       "</style>\n",
       "<table border=\"1\" class=\"dataframe\">\n",
       "  <thead>\n",
       "    <tr style=\"text-align: right;\">\n",
       "      <th></th>\n",
       "      <th>brand</th>\n",
       "      <th>nod</th>\n",
       "      <th>location</th>\n",
       "      <th>model</th>\n",
       "      <th>varient</th>\n",
       "      <th>fuel</th>\n",
       "      <th>year</th>\n",
       "      <th>transmission</th>\n",
       "      <th>km</th>\n",
       "      <th>price</th>\n",
       "    </tr>\n",
       "  </thead>\n",
       "  <tbody>\n",
       "    <tr>\n",
       "      <td>0</td>\n",
       "      <td>Maruti Suzuki</td>\n",
       "      <td>2nd</td>\n",
       "      <td>Pathanamthitta</td>\n",
       "      <td>Eeco</td>\n",
       "      <td>5 STR WITH A/C+HTR</td>\n",
       "      <td>Petrol</td>\n",
       "      <td>2011</td>\n",
       "      <td>Manual</td>\n",
       "      <td>55000</td>\n",
       "      <td>230000</td>\n",
       "    </tr>\n",
       "    <tr>\n",
       "      <td>1</td>\n",
       "      <td>Maruti Suzuki</td>\n",
       "      <td>1st</td>\n",
       "      <td>Bengaluru</td>\n",
       "      <td>Swift</td>\n",
       "      <td>2011-2014 LXI</td>\n",
       "      <td>Petrol</td>\n",
       "      <td>2012</td>\n",
       "      <td>Manual</td>\n",
       "      <td>54000</td>\n",
       "      <td>415000</td>\n",
       "    </tr>\n",
       "    <tr>\n",
       "      <td>2</td>\n",
       "      <td>Hyundai</td>\n",
       "      <td>1st</td>\n",
       "      <td>Hyderabad</td>\n",
       "      <td>Verna</td>\n",
       "      <td>CRDi 1.6 SX</td>\n",
       "      <td>Diesel</td>\n",
       "      <td>2011</td>\n",
       "      <td>Manual</td>\n",
       "      <td>79000</td>\n",
       "      <td>470000</td>\n",
       "    </tr>\n",
       "    <tr>\n",
       "      <td>3</td>\n",
       "      <td>Tata</td>\n",
       "      <td>4th</td>\n",
       "      <td>Umarga</td>\n",
       "      <td>Manza</td>\n",
       "      <td>Aura (ABS) Quadrajet</td>\n",
       "      <td>Diesel</td>\n",
       "      <td>2010</td>\n",
       "      <td>Automatic</td>\n",
       "      <td>999999</td>\n",
       "      <td>180000</td>\n",
       "    </tr>\n",
       "    <tr>\n",
       "      <td>4</td>\n",
       "      <td>Hyundai</td>\n",
       "      <td>1st</td>\n",
       "      <td>Jalandhar</td>\n",
       "      <td>i20</td>\n",
       "      <td>1.2 Spotz</td>\n",
       "      <td>Petrol</td>\n",
       "      <td>2013</td>\n",
       "      <td>Manual</td>\n",
       "      <td>65000</td>\n",
       "      <td>399000</td>\n",
       "    </tr>\n",
       "  </tbody>\n",
       "</table>\n",
       "</div>"
      ],
      "text/plain": [
       "           brand  nod         location  model               varient    fuel  \\\n",
       "0  Maruti Suzuki  2nd   Pathanamthitta   Eeco    5 STR WITH A/C+HTR  Petrol   \n",
       "1  Maruti Suzuki  1st        Bengaluru  Swift         2011-2014 LXI  Petrol   \n",
       "2        Hyundai  1st        Hyderabad  Verna           CRDi 1.6 SX  Diesel   \n",
       "3           Tata  4th           Umarga  Manza  Aura (ABS) Quadrajet  Diesel   \n",
       "4        Hyundai  1st        Jalandhar    i20             1.2 Spotz  Petrol   \n",
       "\n",
       "   year transmission      km   price  \n",
       "0  2011       Manual   55000  230000  \n",
       "1  2012       Manual   54000  415000  \n",
       "2  2011       Manual   79000  470000  \n",
       "3  2010    Automatic  999999  180000  \n",
       "4  2013       Manual   65000  399000  "
      ]
     },
     "execution_count": 21,
     "metadata": {},
     "output_type": "execute_result"
    }
   ],
   "source": [
    "df.head()"
   ]
  },
  {
   "cell_type": "code",
   "execution_count": 45,
   "metadata": {},
   "outputs": [
    {
     "data": {
      "text/plain": [
       "brand           0\n",
       "nod             0\n",
       "location        0\n",
       "model           0\n",
       "varient         0\n",
       "fuel            0\n",
       "year            0\n",
       "transmission    0\n",
       "km              0\n",
       "price           0\n",
       "dtype: int64"
      ]
     },
     "execution_count": 45,
     "metadata": {},
     "output_type": "execute_result"
    }
   ],
   "source": [
    "df.isnull().sum()"
   ]
  },
  {
   "cell_type": "code",
   "execution_count": 22,
   "metadata": {},
   "outputs": [
    {
     "data": {
      "text/plain": [
       "brand            30\n",
       "nod               5\n",
       "location        239\n",
       "model           177\n",
       "varient         542\n",
       "fuel              5\n",
       "year             25\n",
       "transmission      2\n",
       "km              466\n",
       "price           442\n",
       "dtype: int64"
      ]
     },
     "execution_count": 22,
     "metadata": {},
     "output_type": "execute_result"
    }
   ],
   "source": [
    "df.nunique()"
   ]
  },
  {
   "cell_type": "code",
   "execution_count": 23,
   "metadata": {},
   "outputs": [],
   "source": [
    "#visualization"
   ]
  },
  {
   "cell_type": "code",
   "execution_count": 24,
   "metadata": {},
   "outputs": [
    {
     "data": {
      "text/plain": [
       "<matplotlib.axes._subplots.AxesSubplot at 0x15b59dfd048>"
      ]
     },
     "execution_count": 24,
     "metadata": {},
     "output_type": "execute_result"
    },
    {
     "data": {
      "image/png": "[encoded data removed]",
      "text/plain": [
       "<Figure size 1440x432 with 1 Axes>"
      ]
     },
     "metadata": {
      "needs_background": "light"
     },
     "output_type": "display_data"
    }
   ],
   "source": [
    "plt.figure(figsize=(20,6))\n",
    "sns.countplot(x=df[\"year\"])"
   ]
  },
  {
   "cell_type": "markdown",
   "metadata": {},
   "source": [
    "most of the cars are made between year 2010 to 2020 particularly in 2015 to 2019"
   ]
  },
  {
   "cell_type": "code",
   "execution_count": 25,
   "metadata": {},
   "outputs": [
    {
     "data": {
      "text/plain": [
       "<matplotlib.axes._subplots.AxesSubplot at 0x15b5a41d588>"
      ]
     },
     "execution_count": 25,
     "metadata": {},
     "output_type": "execute_result"
    },
    {
     "data": {
      "image/png": "[encoded data removed]",
      "text/plain": [
       "<Figure size 1440x864 with 1 Axes>"
      ]
     },
     "metadata": {},
     "output_type": "display_data"
    }
   ],
   "source": [
    "plt.figure(figsize=(20,12))\n",
    "plt.subplot(2,2,1)\n",
    "df[\"brand\"].value_counts().plot.pie(autopct=\"%.1f%%\")"
   ]
  },
  {
   "cell_type": "markdown",
   "metadata": {},
   "source": [
    "Maruti,Hyundai are in maximum count"
   ]
  },
  {
   "cell_type": "code",
   "execution_count": 26,
   "metadata": {},
   "outputs": [
    {
     "data": {
      "text/plain": [
       "<matplotlib.axes._subplots.AxesSubplot at 0x15b5a412b08>"
      ]
     },
     "execution_count": 26,
     "metadata": {},
     "output_type": "execute_result"
    },
    {
     "data": {
      "image/png": "[encoded data removed]",
      "text/plain": [
       "<Figure size 1440x864 with 2 Axes>"
      ]
     },
     "metadata": {},
     "output_type": "display_data"
    }
   ],
   "source": [
    "plt.figure(figsize=(20,12))\n",
    "plt.subplot(2,3,1)\n",
    "df[\"location\"].value_counts().plot.pie(autopct=\"%.1f%%\")\n",
    "plt.subplot(2,3,2)\n",
    "df[\"fuel\"].value_counts().plot.pie(autopct=\"%.1f%%\")"
   ]
  },
  {
   "cell_type": "markdown",
   "metadata": {},
   "source": [
    "Most cars are from New Delhi ,Most cars are petrol and Diesel based"
   ]
  },
  {
   "cell_type": "code",
   "execution_count": 27,
   "metadata": {},
   "outputs": [
    {
     "data": {
      "text/plain": [
       "<matplotlib.axes._subplots.AxesSubplot at 0x15b5aad8cc8>"
      ]
     },
     "execution_count": 27,
     "metadata": {},
     "output_type": "execute_result"
    },
    {
     "data": {
      "image/png": "[encoded data removed]",
      "text/plain": [
       "<Figure size 1440x864 with 2 Axes>"
      ]
     },
     "metadata": {
      "needs_background": "light"
     },
     "output_type": "display_data"
    }
   ],
   "source": [
    "plt.figure(figsize=(20,12))\n",
    "plt.subplot(2,2,1)\n",
    "sns.countplot(df[\"transmission\"],hue=df[\"fuel\"])\n",
    "plt.subplot(2,2,2)\n",
    "sns.countplot(df[\"nod\"])"
   ]
  },
  {
   "cell_type": "markdown",
   "metadata": {},
   "source": [
    "Manual Transmission vehicle use Petrol the most than diesel, For Automatic both are nearly in equal amount.\n",
    "Most of the Cars have no of owner is 1"
   ]
  },
  {
   "cell_type": "code",
   "execution_count": 28,
   "metadata": {},
   "outputs": [],
   "source": [
    "from sklearn.preprocessing import LabelEncoder\n",
    "list1=df.select_dtypes(include=[\"object\"]).columns"
   ]
  },
  {
   "cell_type": "code",
   "execution_count": 29,
   "metadata": {},
   "outputs": [],
   "source": [
    "le=LabelEncoder()"
   ]
  },
  {
   "cell_type": "code",
   "execution_count": 30,
   "metadata": {},
   "outputs": [],
   "source": [
    "for i in list1:\n",
    "    df[i]=le.fit_transform(df[i])"
   ]
  },
  {
   "cell_type": "code",
   "execution_count": 31,
   "metadata": {},
   "outputs": [
    {
     "data": {
      "text/html": [
       "<div>\n",
       "<style scoped>\n",
       "    .dataframe tbody tr th:only-of-type {\n",
       "        vertical-align: middle;\n",
       "    }\n",
       "\n",
       "    .dataframe tbody tr th {\n",
       "        vertical-align: top;\n",
       "    }\n",
       "\n",
       "    .dataframe thead th {\n",
       "        text-align: right;\n",
       "    }\n",
       "</style>\n",
       "<table border=\"1\" class=\"dataframe\">\n",
       "  <thead>\n",
       "    <tr style=\"text-align: right;\">\n",
       "      <th></th>\n",
       "      <th>brand</th>\n",
       "      <th>nod</th>\n",
       "      <th>location</th>\n",
       "      <th>model</th>\n",
       "      <th>varient</th>\n",
       "      <th>fuel</th>\n",
       "      <th>year</th>\n",
       "      <th>transmission</th>\n",
       "      <th>km</th>\n",
       "      <th>price</th>\n",
       "    </tr>\n",
       "  </thead>\n",
       "  <tbody>\n",
       "    <tr>\n",
       "      <td>0</td>\n",
       "      <td>17</td>\n",
       "      <td>1</td>\n",
       "      <td>151</td>\n",
       "      <td>49</td>\n",
       "      <td>261</td>\n",
       "      <td>4</td>\n",
       "      <td>2011</td>\n",
       "      <td>1</td>\n",
       "      <td>55000</td>\n",
       "      <td>230000</td>\n",
       "    </tr>\n",
       "    <tr>\n",
       "      <td>1</td>\n",
       "      <td>17</td>\n",
       "      <td>0</td>\n",
       "      <td>27</td>\n",
       "      <td>144</td>\n",
       "      <td>193</td>\n",
       "      <td>4</td>\n",
       "      <td>2012</td>\n",
       "      <td>1</td>\n",
       "      <td>54000</td>\n",
       "      <td>415000</td>\n",
       "    </tr>\n",
       "    <tr>\n",
       "      <td>2</td>\n",
       "      <td>11</td>\n",
       "      <td>0</td>\n",
       "      <td>82</td>\n",
       "      <td>158</td>\n",
       "      <td>308</td>\n",
       "      <td>2</td>\n",
       "      <td>2011</td>\n",
       "      <td>1</td>\n",
       "      <td>79000</td>\n",
       "      <td>470000</td>\n",
       "    </tr>\n",
       "    <tr>\n",
       "      <td>3</td>\n",
       "      <td>26</td>\n",
       "      <td>4</td>\n",
       "      <td>213</td>\n",
       "      <td>97</td>\n",
       "      <td>297</td>\n",
       "      <td>2</td>\n",
       "      <td>2010</td>\n",
       "      <td>0</td>\n",
       "      <td>999999</td>\n",
       "      <td>180000</td>\n",
       "    </tr>\n",
       "    <tr>\n",
       "      <td>4</td>\n",
       "      <td>11</td>\n",
       "      <td>0</td>\n",
       "      <td>86</td>\n",
       "      <td>175</td>\n",
       "      <td>36</td>\n",
       "      <td>4</td>\n",
       "      <td>2013</td>\n",
       "      <td>1</td>\n",
       "      <td>65000</td>\n",
       "      <td>399000</td>\n",
       "    </tr>\n",
       "    <tr>\n",
       "      <td>...</td>\n",
       "      <td>...</td>\n",
       "      <td>...</td>\n",
       "      <td>...</td>\n",
       "      <td>...</td>\n",
       "      <td>...</td>\n",
       "      <td>...</td>\n",
       "      <td>...</td>\n",
       "      <td>...</td>\n",
       "      <td>...</td>\n",
       "      <td>...</td>\n",
       "    </tr>\n",
       "    <tr>\n",
       "      <td>1669</td>\n",
       "      <td>16</td>\n",
       "      <td>0</td>\n",
       "      <td>238</td>\n",
       "      <td>74</td>\n",
       "      <td>288</td>\n",
       "      <td>4</td>\n",
       "      <td>2017</td>\n",
       "      <td>1</td>\n",
       "      <td>13483</td>\n",
       "      <td>559500</td>\n",
       "    </tr>\n",
       "    <tr>\n",
       "      <td>1670</td>\n",
       "      <td>16</td>\n",
       "      <td>0</td>\n",
       "      <td>238</td>\n",
       "      <td>22</td>\n",
       "      <td>17</td>\n",
       "      <td>4</td>\n",
       "      <td>2016</td>\n",
       "      <td>1</td>\n",
       "      <td>59044</td>\n",
       "      <td>530500</td>\n",
       "    </tr>\n",
       "    <tr>\n",
       "      <td>1671</td>\n",
       "      <td>16</td>\n",
       "      <td>1</td>\n",
       "      <td>238</td>\n",
       "      <td>22</td>\n",
       "      <td>15</td>\n",
       "      <td>4</td>\n",
       "      <td>2018</td>\n",
       "      <td>0</td>\n",
       "      <td>24229</td>\n",
       "      <td>801500</td>\n",
       "    </tr>\n",
       "    <tr>\n",
       "      <td>1672</td>\n",
       "      <td>11</td>\n",
       "      <td>0</td>\n",
       "      <td>238</td>\n",
       "      <td>175</td>\n",
       "      <td>400</td>\n",
       "      <td>4</td>\n",
       "      <td>2018</td>\n",
       "      <td>0</td>\n",
       "      <td>17908</td>\n",
       "      <td>765500</td>\n",
       "    </tr>\n",
       "    <tr>\n",
       "      <td>1673</td>\n",
       "      <td>16</td>\n",
       "      <td>0</td>\n",
       "      <td>238</td>\n",
       "      <td>35</td>\n",
       "      <td>47</td>\n",
       "      <td>4</td>\n",
       "      <td>2017</td>\n",
       "      <td>0</td>\n",
       "      <td>25877</td>\n",
       "      <td>843500</td>\n",
       "    </tr>\n",
       "  </tbody>\n",
       "</table>\n",
       "<p>1674 rows × 10 columns</p>\n",
       "</div>"
      ],
      "text/plain": [
       "      brand  nod  location  model  varient  fuel  year  transmission      km  \\\n",
       "0        17    1       151     49      261     4  2011             1   55000   \n",
       "1        17    0        27    144      193     4  2012             1   54000   \n",
       "2        11    0        82    158      308     2  2011             1   79000   \n",
       "3        26    4       213     97      297     2  2010             0  999999   \n",
       "4        11    0        86    175       36     4  2013             1   65000   \n",
       "...     ...  ...       ...    ...      ...   ...   ...           ...     ...   \n",
       "1669     16    0       238     74      288     4  2017             1   13483   \n",
       "1670     16    0       238     22       17     4  2016             1   59044   \n",
       "1671     16    1       238     22       15     4  2018             0   24229   \n",
       "1672     11    0       238    175      400     4  2018             0   17908   \n",
       "1673     16    0       238     35       47     4  2017             0   25877   \n",
       "\n",
       "       price  \n",
       "0     230000  \n",
       "1     415000  \n",
       "2     470000  \n",
       "3     180000  \n",
       "4     399000  \n",
       "...      ...  \n",
       "1669  559500  \n",
       "1670  530500  \n",
       "1671  801500  \n",
       "1672  765500  \n",
       "1673  843500  \n",
       "\n",
       "[1674 rows x 10 columns]"
      ]
     },
     "execution_count": 31,
     "metadata": {},
     "output_type": "execute_result"
    }
   ],
   "source": [
    "df"
   ]
  },
  {
   "cell_type": "code",
   "execution_count": 32,
   "metadata": {},
   "outputs": [
    {
     "data": {
      "image/png": "[encoded data removed]",
      "text/plain": [
       "<Figure size 720x720 with 2 Axes>"
      ]
     },
     "metadata": {
      "needs_background": "light"
     },
     "output_type": "display_data"
    }
   ],
   "source": [
    "plt.figure(figsize=(10,10))\n",
    "sns.heatmap(df.corr(),vmax=.8,fmt='.2f',square=True,annot=True)\n",
    "plt.show()"
   ]
  },
  {
   "cell_type": "code",
   "execution_count": 44,
   "metadata": {},
   "outputs": [
    {
     "data": {
      "text/plain": [
       "price           1.000000\n",
       "year            0.315754\n",
       "model          -0.008083\n",
       "varient        -0.033811\n",
       "brand          -0.047516\n",
       "location       -0.111877\n",
       "km             -0.130084\n",
       "nod            -0.154607\n",
       "fuel           -0.182589\n",
       "transmission   -0.331373\n",
       "Name: price, dtype: float64"
      ]
     },
     "execution_count": 44,
     "metadata": {},
     "output_type": "execute_result"
    }
   ],
   "source": [
    "df.corr()[\"price\"].sort_values(ascending=False)"
   ]
  },
  {
   "cell_type": "markdown",
   "metadata": {},
   "source": [
    "Here Year, fuel, transmission,no of owners are highly correlated with price of cars"
   ]
  },
  {
   "cell_type": "code",
   "execution_count": 33,
   "metadata": {},
   "outputs": [],
   "source": [
    "x=df.drop(columns=[\"price\"],axis=1)\n",
    "y=df[\"price\"]"
   ]
  },
  {
   "cell_type": "code",
   "execution_count": 34,
   "metadata": {},
   "outputs": [
    {
     "name": "stdout",
     "output_type": "stream",
     "text": [
      "(1674, 9)\n",
      "(1674,)\n"
     ]
    }
   ],
   "source": [
    "print(x.shape)\n",
    "print(y.shape)"
   ]
  },
  {
   "cell_type": "code",
   "execution_count": 47,
   "metadata": {},
   "outputs": [],
   "source": [
    "from sklearn.model_selection import train_test_split,cross_val_score,GridSearchCV\n",
    "from sklearn.linear_model import LinearRegression,ElasticNet,Lasso\n",
    "from sklearn.tree import DecisionTreeRegressor\n",
    "from sklearn.neighbors import KNeighborsRegressor\n",
    "from sklearn.metrics import mean_squared_error,r2_score,mean_absolute_error\n",
    "from sklearn.ensemble import RandomForestRegressor,GradientBoostingRegressor"
   ]
  },
  {
   "cell_type": "code",
   "execution_count": 36,
   "metadata": {},
   "outputs": [],
   "source": [
    "def metrics(a,b):                                               #define matrices to check score of model\n",
    "    print(\"r2_score : \",r2_score(a,b))\n",
    "    print(\"mean_squared_error : \",mean_squared_error(a,b))\n",
    "    print(\"mean_absolute_error : \",mean_absolute_error(a,b))"
   ]
  },
  {
   "cell_type": "code",
   "execution_count": 37,
   "metadata": {},
   "outputs": [],
   "source": [
    "def model(mod,xtrain,ytrain,xtest,ytest):           #define model\n",
    "    mod.fit(xtrain,ytrain)                          #fitting the trained data of both independent and dependent variable\n",
    "    pred=mod.predict(xtest)                         #Predict test data\n",
    "    metrics(ytest,pred)"
   ]
  },
  {
   "cell_type": "markdown",
   "metadata": {},
   "source": [
    "split of train and test data"
   ]
  },
  {
   "cell_type": "code",
   "execution_count": 38,
   "metadata": {},
   "outputs": [],
   "source": [
    "xtrain,xtest,ytrain,ytest=train_test_split(x,y,test_size=.20,random_state=40)"
   ]
  },
  {
   "cell_type": "code",
   "execution_count": 48,
   "metadata": {},
   "outputs": [
    {
     "name": "stdout",
     "output_type": "stream",
     "text": [
      "cross_val_score :  -0.2726418351563771\n",
      "r2_score :  0.26653099920396583\n",
      "mean_squared_error :  249684793707.1737\n",
      "mean_absolute_error :  251557.2764896206\n",
      "____________________________________________________________________________________________________\n",
      "cross_val_score :  0.10410814687734357\n",
      "r2_score :  -1.008946793915492\n",
      "mean_squared_error :  683878207890.2955\n",
      "mean_absolute_error :  181624.8985074627\n",
      "____________________________________________________________________________________________________\n",
      "cross_val_score :  -1.3221178893077172\n",
      "r2_score :  -0.3492566604851177\n",
      "mean_squared_error :  459308942253.36194\n",
      "mean_absolute_error :  304047.10686567164\n",
      "____________________________________________________________________________________________________\n",
      "cross_val_score :  0.19364187565586855\n",
      "r2_score :  0.3922666188932674\n",
      "mean_squared_error :  206882340938.62494\n",
      "mean_absolute_error :  126418.79253731343\n",
      "____________________________________________________________________________________________________\n",
      "cross_val_score :  0.31068861296322603\n",
      "r2_score :  0.3627903829729612\n",
      "mean_squared_error :  216916531718.3826\n",
      "mean_absolute_error :  162799.9172572889\n",
      "____________________________________________________________________________________________________\n",
      "cross_val_score :  0.2054236225346327\n",
      "r2_score :  0.22123281836631514\n",
      "mean_squared_error :  265105032225.07156\n",
      "mean_absolute_error :  232639.4416629816\n",
      "____________________________________________________________________________________________________\n",
      "cross_val_score :  -0.27262834572569666\n",
      "r2_score :  0.2665311020856367\n",
      "mean_squared_error :  249684758684.57733\n",
      "mean_absolute_error :  251556.51673762104\n",
      "____________________________________________________________________________________________________\n"
     ]
    }
   ],
   "source": [
    "list1=[LinearRegression(),DecisionTreeRegressor(),KNeighborsRegressor(),RandomForestRegressor(),GradientBoostingRegressor(),ElasticNet(),Lasso()]\n",
    "for i in list1:\n",
    "    print(\"cross_val_score : \",cross_val_score(i,x,y,cv=4).mean())\n",
    "    model(i,xtrain,ytrain,xtest,ytest)\n",
    "    print(\"_____\"*20)"
   ]
  },
  {
   "cell_type": "markdown",
   "metadata": {},
   "source": [
    "Hyper parameter tuneing"
   ]
  },
  {
   "cell_type": "code",
   "execution_count": 42,
   "metadata": {},
   "outputs": [
    {
     "name": "stderr",
     "output_type": "stream",
     "text": [
      "C:\\ProgramData\\Anaconda3\\lib\\site-packages\\sklearn\\model_selection\\_search.py:814: DeprecationWarning: The default of the `iid` parameter will change from True to False in version 0.22 and will be removed in 0.24. This will change numeric results when test-set sizes are unequal.\n",
      "  DeprecationWarning)\n"
     ]
    },
    {
     "data": {
      "text/plain": [
       "0.411644166792814"
      ]
     },
     "execution_count": 42,
     "metadata": {},
     "output_type": "execute_result"
    }
   ],
   "source": [
    "para={\"n_estimators\": [10,20,30],\"max_features\" : [\"auto\", \"sqrt\", \"log2\"]}\n",
    "gv=GridSearchCV(RandomForestRegressor(),para,cv=5)\n",
    "gv.fit(xtrain,ytrain)\n",
    "gvpred=gv.predict(xtest)\n",
    "r2_score(ytest,gvpred)"
   ]
  },
  {
   "cell_type": "code",
   "execution_count": 36,
   "metadata": {},
   "outputs": [
    {
     "data": {
      "text/html": [
       "<div>\n",
       "<style scoped>\n",
       "    .dataframe tbody tr th:only-of-type {\n",
       "        vertical-align: middle;\n",
       "    }\n",
       "\n",
       "    .dataframe tbody tr th {\n",
       "        vertical-align: top;\n",
       "    }\n",
       "\n",
       "    .dataframe thead th {\n",
       "        text-align: right;\n",
       "    }\n",
       "</style>\n",
       "<table border=\"1\" class=\"dataframe\">\n",
       "  <thead>\n",
       "    <tr style=\"text-align: right;\">\n",
       "      <th></th>\n",
       "      <th>brand</th>\n",
       "      <th>nod</th>\n",
       "      <th>location</th>\n",
       "      <th>model</th>\n",
       "      <th>varient</th>\n",
       "      <th>fuel</th>\n",
       "      <th>year</th>\n",
       "      <th>transmission</th>\n",
       "      <th>km</th>\n",
       "      <th>price</th>\n",
       "    </tr>\n",
       "  </thead>\n",
       "  <tbody>\n",
       "    <tr>\n",
       "      <td>0</td>\n",
       "      <td>13</td>\n",
       "      <td>0</td>\n",
       "      <td>33</td>\n",
       "      <td>64</td>\n",
       "      <td>94</td>\n",
       "      <td>2</td>\n",
       "      <td>2017</td>\n",
       "      <td>1</td>\n",
       "      <td>59990</td>\n",
       "      <td>710000</td>\n",
       "    </tr>\n",
       "    <tr>\n",
       "      <td>1</td>\n",
       "      <td>13</td>\n",
       "      <td>0</td>\n",
       "      <td>57</td>\n",
       "      <td>63</td>\n",
       "      <td>185</td>\n",
       "      <td>2</td>\n",
       "      <td>2010</td>\n",
       "      <td>1</td>\n",
       "      <td>1</td>\n",
       "      <td>15000</td>\n",
       "    </tr>\n",
       "    <tr>\n",
       "      <td>2</td>\n",
       "      <td>17</td>\n",
       "      <td>0</td>\n",
       "      <td>8</td>\n",
       "      <td>61</td>\n",
       "      <td>151</td>\n",
       "      <td>3</td>\n",
       "      <td>2019</td>\n",
       "      <td>0</td>\n",
       "      <td>15101</td>\n",
       "      <td>1089900</td>\n",
       "    </tr>\n",
       "    <tr>\n",
       "      <td>3</td>\n",
       "      <td>19</td>\n",
       "      <td>1</td>\n",
       "      <td>52</td>\n",
       "      <td>49</td>\n",
       "      <td>78</td>\n",
       "      <td>2</td>\n",
       "      <td>2009</td>\n",
       "      <td>1</td>\n",
       "      <td>182200</td>\n",
       "      <td>510000</td>\n",
       "    </tr>\n",
       "    <tr>\n",
       "      <td>4</td>\n",
       "      <td>8</td>\n",
       "      <td>4</td>\n",
       "      <td>36</td>\n",
       "      <td>69</td>\n",
       "      <td>135</td>\n",
       "      <td>3</td>\n",
       "      <td>2009</td>\n",
       "      <td>1</td>\n",
       "      <td>98000</td>\n",
       "      <td>230000</td>\n",
       "    </tr>\n",
       "    <tr>\n",
       "      <td>...</td>\n",
       "      <td>...</td>\n",
       "      <td>...</td>\n",
       "      <td>...</td>\n",
       "      <td>...</td>\n",
       "      <td>...</td>\n",
       "      <td>...</td>\n",
       "      <td>...</td>\n",
       "      <td>...</td>\n",
       "      <td>...</td>\n",
       "      <td>...</td>\n",
       "    </tr>\n",
       "    <tr>\n",
       "      <td>1048</td>\n",
       "      <td>12</td>\n",
       "      <td>0</td>\n",
       "      <td>75</td>\n",
       "      <td>46</td>\n",
       "      <td>115</td>\n",
       "      <td>3</td>\n",
       "      <td>2017</td>\n",
       "      <td>1</td>\n",
       "      <td>13483</td>\n",
       "      <td>559500</td>\n",
       "    </tr>\n",
       "    <tr>\n",
       "      <td>1049</td>\n",
       "      <td>12</td>\n",
       "      <td>0</td>\n",
       "      <td>75</td>\n",
       "      <td>14</td>\n",
       "      <td>11</td>\n",
       "      <td>3</td>\n",
       "      <td>2016</td>\n",
       "      <td>1</td>\n",
       "      <td>59044</td>\n",
       "      <td>530500</td>\n",
       "    </tr>\n",
       "    <tr>\n",
       "      <td>1050</td>\n",
       "      <td>12</td>\n",
       "      <td>1</td>\n",
       "      <td>75</td>\n",
       "      <td>14</td>\n",
       "      <td>10</td>\n",
       "      <td>3</td>\n",
       "      <td>2018</td>\n",
       "      <td>0</td>\n",
       "      <td>24229</td>\n",
       "      <td>801500</td>\n",
       "    </tr>\n",
       "    <tr>\n",
       "      <td>1051</td>\n",
       "      <td>8</td>\n",
       "      <td>0</td>\n",
       "      <td>75</td>\n",
       "      <td>95</td>\n",
       "      <td>153</td>\n",
       "      <td>3</td>\n",
       "      <td>2018</td>\n",
       "      <td>0</td>\n",
       "      <td>17908</td>\n",
       "      <td>765500</td>\n",
       "    </tr>\n",
       "    <tr>\n",
       "      <td>1052</td>\n",
       "      <td>12</td>\n",
       "      <td>0</td>\n",
       "      <td>75</td>\n",
       "      <td>20</td>\n",
       "      <td>35</td>\n",
       "      <td>3</td>\n",
       "      <td>2017</td>\n",
       "      <td>0</td>\n",
       "      <td>25877</td>\n",
       "      <td>843500</td>\n",
       "    </tr>\n",
       "  </tbody>\n",
       "</table>\n",
       "<p>1053 rows × 10 columns</p>\n",
       "</div>"
      ],
      "text/plain": [
       "      brand  nod  location  model  varient  fuel  year  transmission      km  \\\n",
       "0        13    0        33     64       94     2  2017             1   59990   \n",
       "1        13    0        57     63      185     2  2010             1       1   \n",
       "2        17    0         8     61      151     3  2019             0   15101   \n",
       "3        19    1        52     49       78     2  2009             1  182200   \n",
       "4         8    4        36     69      135     3  2009             1   98000   \n",
       "...     ...  ...       ...    ...      ...   ...   ...           ...     ...   \n",
       "1048     12    0        75     46      115     3  2017             1   13483   \n",
       "1049     12    0        75     14       11     3  2016             1   59044   \n",
       "1050     12    1        75     14       10     3  2018             0   24229   \n",
       "1051      8    0        75     95      153     3  2018             0   17908   \n",
       "1052     12    0        75     20       35     3  2017             0   25877   \n",
       "\n",
       "        price  \n",
       "0      710000  \n",
       "1       15000  \n",
       "2     1089900  \n",
       "3      510000  \n",
       "4      230000  \n",
       "...       ...  \n",
       "1048   559500  \n",
       "1049   530500  \n",
       "1050   801500  \n",
       "1051   765500  \n",
       "1052   843500  \n",
       "\n",
       "[1053 rows x 10 columns]"
      ]
     },
     "execution_count": 36,
     "metadata": {},
     "output_type": "execute_result"
    }
   ],
   "source": [
    "df"
   ]
  },
  {
   "cell_type": "code",
   "execution_count": 57,
   "metadata": {},
   "outputs": [],
   "source": [
    "l=np.array([7,1,8,62,150,3,2017,1,20000]).reshape(1,-1)"
   ]
  },
  {
   "cell_type": "code",
   "execution_count": 58,
   "metadata": {},
   "outputs": [
    {
     "data": {
      "text/plain": [
       "array([685620.56666667])"
      ]
     },
     "execution_count": 58,
     "metadata": {},
     "output_type": "execute_result"
    }
   ],
   "source": [
    "gv.predict(l)"
   ]
  },
  {
   "cell_type": "code",
   "execution_count": null,
   "metadata": {},
   "outputs": [],
   "source": []
  }
 ],
 "metadata": {
  "kernelspec": {
   "display_name": "Python 3",
   "language": "python",
   "name": "python3"
  },
  "language_info": {
   "codemirror_mode": {
    "name": "ipython",
    "version": 3
   },
   "file_extension": ".py",
   "mimetype": "text/x-python",
   "name": "python",
   "nbconvert_exporter": "python",
   "pygments_lexer": "ipython3",
   "version": "3.7.4"
  }
 },
 "nbformat": 4,
 "nbformat_minor": 2
}
